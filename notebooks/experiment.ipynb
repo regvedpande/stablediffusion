{
 "cells": [
  {
   "cell_type": "code",
   "execution_count": null,
   "metadata": {
    "vscode": {
     "languageId": "plaintext"
    }
   },
   "outputs": [],
   "source": [
    "from diffusers import DiffusionPipeline\n",
    "import torch\n",
    "\n",
    "# Set up the device (use \"cpu\" for your AMD Radeon)\n",
    "device = \"cpu\"\n",
    "\n",
    "# Load the pipeline from the Hugging Face Hub\n",
    "pipeline = DiffusionPipeline.from_pretrained(\n",
    "    \"stable-diffusion-v1-5/stable-diffusion-v1-5\",\n",
    "    torch_dtype=torch.float32  # Use float32 for CPU\n",
    ")\n",
    "pipeline.to(device)\n",
    "\n",
    "# Define your prompt\n",
    "prompt = \"A scenic landscape with mountains and a river\"\n",
    "\n",
    "# Generate the image\n",
    "result = pipeline(prompt)\n",
    "image = result.images[0]\n",
    "\n",
    "# Display the image (in Jupyter, the last output of a cell will be displayed)\n",
    "image\n",
    "\n"
   ]
  }
 ],
 "metadata": {
  "language_info": {
   "name": "python"
  }
 },
 "nbformat": 4,
 "nbformat_minor": 2
}
